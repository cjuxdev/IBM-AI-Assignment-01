{
 "cells": [
  {
   "cell_type": "markdown",
   "id": "1817e7b7-ac30-42dc-aa91-1926174506ef",
   "metadata": {},
   "source": [
    "# Data Science Tools and Ecosystem"
   ]
  },
  {
   "cell_type": "markdown",
   "id": "e11172fa-7aed-4756-b120-b90936fe6ae0",
   "metadata": {},
   "source": [
    "###### In this notebook, Data Science Tools and Ecosystem are summarized"
   ]
  },
  {
   "cell_type": "markdown",
   "id": "9d71fb72-b2cc-46f1-81b5-ce1c1dad7af4",
   "metadata": {},
   "source": [
    "Some of the popular languages that Data Scientists use are:\n",
    "1. Python\n",
    "2. R\n",
    "3. JavaScript"
   ]
  },
  {
   "cell_type": "markdown",
   "id": "c8c15e59-1023-49b2-9d33-bade5b8904b4",
   "metadata": {},
   "source": [
    "Some of the commonly used libraries used by Data Scientists include:\n",
    "1. TensorFlow\n",
    "2. Seaborn\n",
    "3. Keras\n",
    "4. Pandas\n",
    "5. PyTorch\n",
    "6. Matplotlib"
   ]
  },
  {
   "cell_type": "markdown",
   "id": "3c1d1c08-ff02-4fc4-af71-1615b68530a4",
   "metadata": {},
   "source": [
    "\n",
    "|Data Science Tools|\n",
    "|------------------|\n",
    "|Jupyter Notebooks|\n",
    "|Rstudio|\n",
    "|Spyde|"
   ]
  },
  {
   "cell_type": "markdown",
   "id": "39b510df-d4ea-468c-bb0a-29384abb1062",
   "metadata": {},
   "source": [
    "### Below are a few examples of evaluating arithmetic expressions in Python"
   ]
  },
  {
   "cell_type": "code",
   "execution_count": 14,
   "id": "cfc1a590-806d-478e-bd0a-9a3b89b57731",
   "metadata": {},
   "outputs": [
    {
     "data": {
      "text/plain": [
       "17"
      ]
     },
     "execution_count": 14,
     "metadata": {},
     "output_type": "execute_result"
    }
   ],
   "source": [
    "#is a simple arithmetic expression to mutiply then add integers\n",
    "(3*4)+5"
   ]
  },
  {
   "cell_type": "code",
   "execution_count": 15,
   "id": "c59d2d23-d37b-409d-b37c-5866ef8b103d",
   "metadata": {},
   "outputs": [
    {
     "name": "stdout",
     "output_type": "stream",
     "text": [
      "3.3333333333333335\n"
     ]
    }
   ],
   "source": [
    "# This will convert 200 minutes to hours by dividing by 60\n",
    "a=200\n",
    "b=60\n",
    "c=a/b\n",
    "print(c)"
   ]
  },
  {
   "cell_type": "markdown",
   "id": "cb113825-390e-4b52-97a6-480df173cfad",
   "metadata": {},
   "source": [
    "**Objectives:**\n",
    "List popular languages for Data Science.\n",
    "\n",
    "* TensorFlow\n",
    "* Seaborn\n",
    "* Keras\n",
    "* Pandas\n",
    "* PyTorch\n",
    "* Matplotlib"
   ]
  },
  {
   "cell_type": "markdown",
   "id": "ceb96c59-fae1-4eac-ba43-4fc4ef78ce50",
   "metadata": {},
   "source": [
    "## Author ##\n",
    "Chathura"
   ]
  },
  {
   "cell_type": "code",
   "execution_count": null,
   "id": "485a2307-5f2a-4ddb-8faa-3503d504b8d9",
   "metadata": {},
   "outputs": [],
   "source": []
  }
 ],
 "metadata": {
  "kernelspec": {
   "display_name": "Python 3 (ipykernel)",
   "language": "python",
   "name": "python3"
  },
  "language_info": {
   "codemirror_mode": {
    "name": "ipython",
    "version": 3
   },
   "file_extension": ".py",
   "mimetype": "text/x-python",
   "name": "python",
   "nbconvert_exporter": "python",
   "pygments_lexer": "ipython3",
   "version": "3.11.9"
  }
 },
 "nbformat": 4,
 "nbformat_minor": 5
}
